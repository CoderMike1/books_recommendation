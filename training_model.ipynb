{
 "cells": [
  {
   "cell_type": "code",
   "id": "initial_id",
   "metadata": {
    "collapsed": true
   },
   "source": [
    "import pandas as pd\n",
    "import marqo"
   ],
   "outputs": [],
   "execution_count": null
  },
  {
   "metadata": {},
   "cell_type": "code",
   "source": [
    "#dataset was used from kaggle\n",
    "#https://www.kaggle.com/datasets/abdallahwagih/books-dataset\n",
    "df = pd.read_csv(\"data.csv\")\n",
    "df.head()"
   ],
   "id": "d14decd32caf1ac2",
   "outputs": [],
   "execution_count": null
  },
  {
   "metadata": {},
   "cell_type": "code",
   "source": "df = df.where(pd.notna(df), \"\")",
   "id": "cf3395e18292e4fe",
   "outputs": [],
   "execution_count": null
  },
  {
   "metadata": {},
   "cell_type": "code",
   "source": "mq = marqo.Client(\"http://localhost:8882\")",
   "id": "f0cd85b38d2b371a",
   "outputs": [],
   "execution_count": null
  },
  {
   "metadata": {},
   "cell_type": "code",
   "source": "mq.create_index(\"books_index\",model='hf/all_datasets_v4_MiniLM-L6')",
   "id": "861dff86a9cbadc0",
   "outputs": [],
   "execution_count": null
  },
  {
   "metadata": {},
   "cell_type": "code",
   "source": "data = []",
   "id": "7e50d484c0545257",
   "outputs": [],
   "execution_count": null
  },
  {
   "metadata": {},
   "cell_type": "code",
   "source": [
    "def transfer_data_to_document(row):\n",
    "    r = {\n",
    "        \"_id\":str(row['isbn13']),\n",
    "        \"title\":row['title'],\n",
    "        \"authors\":row['authors'],\n",
    "        \"categories\":row['categories'],\n",
    "        \"description\":row['description'],\n",
    "        \"image\":row['thumbnail']\n",
    "    }\n",
    "    return r"
   ],
   "id": "38f44eda34a37a04",
   "outputs": [],
   "execution_count": null
  },
  {
   "metadata": {},
   "cell_type": "code",
   "source": [
    "for index,row in df.iterrows():\n",
    "    r = transfer_data_to_document(row)\n",
    "    data.append(r)"
   ],
   "id": "9ca57f4ff43e3077",
   "outputs": [],
   "execution_count": null
  },
  {
   "metadata": {},
   "cell_type": "code",
   "source": "mq.index(\"books_index\").add_documents(data,client_batch_size=128, tensor_fields=[\"title\", \"authors\", \"categories\", \"description\"])",
   "id": "b1128a294d94c454",
   "outputs": [],
   "execution_count": null
  }
 ],
 "metadata": {
  "kernelspec": {
   "display_name": "Python 3",
   "language": "python",
   "name": "python3"
  },
  "language_info": {
   "codemirror_mode": {
    "name": "ipython",
    "version": 2
   },
   "file_extension": ".py",
   "mimetype": "text/x-python",
   "name": "python",
   "nbconvert_exporter": "python",
   "pygments_lexer": "ipython2",
   "version": "2.7.6"
  }
 },
 "nbformat": 4,
 "nbformat_minor": 5
}
